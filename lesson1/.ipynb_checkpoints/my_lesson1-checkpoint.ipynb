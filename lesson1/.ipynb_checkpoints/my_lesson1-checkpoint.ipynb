{
 "cells": [
  {
   "cell_type": "markdown",
   "id": "8011ec04-c95c-4370-8d11-c797c8ccbbc3",
   "metadata": {},
   "source": [
    "# “Thuc hanh tri tue nhan tao Buoi 1”\n",
    "\n"
   ]
  }
 ],
 "metadata": {
  "kernelspec": {
   "display_name": "Python 3 (ipykernel)",
   "language": "python",
   "name": "python3"
  },
  "language_info": {
   "codemirror_mode": {
    "name": "ipython",
    "version": 3
   },
   "file_extension": ".py",
   "mimetype": "text/x-python",
   "name": "python",
   "nbconvert_exporter": "python",
   "pygments_lexer": "ipython3",
   "version": "3.12.7"
  }
 },
 "nbformat": 4,
 "nbformat_minor": 5
}
