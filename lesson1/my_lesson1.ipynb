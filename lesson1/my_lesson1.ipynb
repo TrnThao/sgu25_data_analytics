{
 "cells": [
  {
   "cell_type": "markdown",
   "id": "b3d85514-f970-4c66-873c-64e71cf5fe63",
   "metadata": {
    "tags": []
   },
   "source": [
    "# “Thuc hanh tri tue nhan tao Buoi 1”\n",
    "\n",
    "## “Noi dung thuc hanh”"
   ]
  },
  {
   "cell_type": "markdown",
   "id": "fd731d40-2666-4959-876e-f6d1a4b6f5d4",
   "metadata": {
    "tags": []
   },
   "source": [
    "### In chu ra man hinh"
   ]
  },
  {
   "cell_type": "code",
   "execution_count": null,
   "id": "923fb260-80a2-4754-9dd7-4d3f246c50ec",
   "metadata": {},
   "outputs": [
    {
     "name": "stdout",
     "output_type": "stream",
     "text": [
      "Hello, Python World!\n"
     ]
    }
   ],
   "source": [
    "# lenh 1 - xuat chu\n",
    "print('Hello, Python World!')"
   ]
  },
  {
   "cell_type": "code",
   "execution_count": 7,
   "id": "fbdcffb9-c9e9-4cfc-a8e5-a8980d2ccf9a",
   "metadata": {},
   "outputs": [],
   "source": [
    "### Chay tap tin python"
   ]
  },
  {
   "cell_type": "code",
   "execution_count": 2,
   "id": "16a86bb0-7a01-4cb0-93c9-b203f10290bc",
   "metadata": {},
   "outputs": [
    {
     "name": "stdout",
     "output_type": "stream",
     "text": [
      "Hello, Python World!\n"
     ]
    }
   ],
   "source": [
    "!python ex0_hello_world.py"
   ]
  },
  {
   "cell_type": "code",
   "execution_count": 3,
   "id": "5c6338e1-9727-4155-9ec3-c31647b8d684",
   "metadata": {},
   "outputs": [
    {
     "name": "stdout",
     "output_type": "stream",
     "text": [
      "Hello, Python World!\n"
     ]
    }
   ],
   "source": [
    "%run ex0_hello_world.py"
   ]
  },
  {
   "cell_type": "markdown",
   "id": "4a2fdc9d-88f8-4fe3-af7c-9466fe90e4a1",
   "metadata": {
    "tags": []
   },
   "source": [
    "### Tinh toan don gian"
   ]
  },
  {
   "cell_type": "code",
   "execution_count": 5,
   "id": "0f887312-bd26-4c06-8036-8d3786c96530",
   "metadata": {},
   "outputs": [
    {
     "name": "stdout",
     "output_type": "stream",
     "text": [
      "Calculator Basic\n"
     ]
    },
    {
     "name": "stdout",
     "output_type": "stream",
     "text": [
      "Moi ban nhap so a:  10\n",
      "Moi ban nhap so b:  20\n"
     ]
    },
    {
     "name": "stdout",
     "output_type": "stream",
     "text": [
      "c = 10 + 20 = 30\n"
     ]
    }
   ],
   "source": [
    "%run ex1_calc.py"
   ]
  },
  {
   "cell_type": "code",
   "execution_count": 6,
   "id": "36bb40bd-7fa6-495f-895a-a51d9a438db6",
   "metadata": {},
   "outputs": [
    {
     "name": "stdout",
     "output_type": "stream",
     "text": [
      "Calculator Basic\n"
     ]
    },
    {
     "name": "stdout",
     "output_type": "stream",
     "text": [
      "Moi ban nhap so a:  10\n",
      "Moi ban nhap so b:  20\n"
     ]
    },
    {
     "name": "stdout",
     "output_type": "stream",
     "text": [
      "c = 10 + 20 = 30\n"
     ]
    }
   ],
   "source": [
    "print(\"Calculator Basic\")\n",
    "a = int(input(\"Moi ban nhap so a: \"))\n",
    "b = int(input(\"Moi ban nhap so b: \"))\n",
    "c = a+ b \n",
    "print(\"c = %d + %d = %d\" %(a, b, c))"
   ]
  },
  {
   "cell_type": "markdown",
   "id": "fc993705-636d-4310-9e52-4c660298913c",
   "metadata": {
    "tags": []
   },
   "source": [
    "# Ket Thuc"
   ]
  }
 ],
 "metadata": {
  "kernelspec": {
   "display_name": "Python 3 (ipykernel)",
   "language": "python",
   "name": "python3"
  },
  "language_info": {
   "codemirror_mode": {
    "name": "ipython",
    "version": 3
   },
   "file_extension": ".py",
   "mimetype": "text/x-python",
   "name": "python",
   "nbconvert_exporter": "python",
   "pygments_lexer": "ipython3",
   "version": "3.12.7"
  }
 },
 "nbformat": 4,
 "nbformat_minor": 5
}
