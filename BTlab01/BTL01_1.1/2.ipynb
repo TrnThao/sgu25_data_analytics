{
 "cells": [
  {
   "cell_type": "code",
   "execution_count": 1,
   "metadata": {},
   "outputs": [],
   "source": [
    "import pandas as pd\n",
    "marketing_data = pd.read_csv(\"marketing_campaign.csv\", sep=\"\\t\")\n",
    "marketing_data = marketing_data[['ID','Year_Birth', 'Education',\n",
    "'Marital_Status','Income','Kidhome', 'Teenhome',\n",
    "'Dt_Customer', 'Recency','NumStorePurchases',\n",
    "'NumWebVisitsMonth']]"
   ]
  },
  {
   "cell_type": "code",
   "execution_count": 2,
   "metadata": {},
   "outputs": [
    {
     "name": "stdout",
     "output_type": "stream",
     "text": [
      "     ID  Year_Birth   Education Marital_Status   Income  Kidhome  Teenhome  \\\n",
      "0  5524        1957  Graduation         Single  58138.0        0         0   \n",
      "1  2174        1954  Graduation         Single  46344.0        1         1   \n",
      "2  4141        1965  Graduation       Together  71613.0        0         0   \n",
      "3  6182        1984  Graduation       Together  26646.0        1         0   \n",
      "4  5324        1981         PhD        Married  58293.0        1         0   \n",
      "\n",
      "  Dt_Customer  Recency  NumStorePurchases  NumWebVisitsMonth  \n",
      "0  04-09-2012       58                  4                  7  \n",
      "1  08-03-2014       38                  2                  5  \n",
      "2  21-08-2013       26                 10                  4  \n",
      "3  10-02-2014       26                  4                  6  \n",
      "4  19-01-2014       94                  6                  5  \n"
     ]
    }
   ],
   "source": [
    "print(marketing_data.head())\n",
    "# Remove duplicates across the columns in our dataset:\n",
    "marketing_data.drop_duplicates(subset='ID', keep='first',inplace=True)\n",
    "# Delete a specified row at index value 1:\n",
    "marketing_data.drop(labels=[1], axis=0, inplace=True)\n",
    "# Delete a single column\n",
    "marketing_data.drop(labels=['Year_Birth'], axis=1, inplace=True)"
   ]
  },
  {
   "cell_type": "code",
   "execution_count": 3,
   "metadata": {},
   "outputs": [
    {
     "name": "stdout",
     "output_type": "stream",
     "text": [
      "     ID   Education Marital_Status   Income  Kidhome  Teenhome Dt_Customer  \\\n",
      "0  5524  Graduation         Single  58138.0        0         0  04-09-2012   \n",
      "2  4141  Graduation       Together  71613.0        0         0  21-08-2013   \n",
      "3  6182  Graduation       Together  26646.0        1         0  10-02-2014   \n",
      "4  5324         PhD        Married  58293.0        1         0  19-01-2014   \n",
      "5  7446      Master       Together  62513.0        0         1  09-09-2013   \n",
      "\n",
      "   Recency  NumStorePurchases  NumWebVisitsMonth  \n",
      "0       58                  4                  7  \n",
      "2       26                 10                  4  \n",
      "3       26                  4                  6  \n",
      "4       94                  6                  5  \n",
      "5       16                 10                  6  \n"
     ]
    }
   ],
   "source": [
    "print(marketing_data.head())\n",
    "# Replace the values in Teenhome with has teen and has no teen\n",
    "marketing_data['Teenhome'] = marketing_data['Teenhome'].replace([0,1,2],['has no teen','has teen','has teen'])\n",
    "# Fill NAs in the Income column\n",
    "marketing_data['Income'] = marketing_data['Income'].fillna(0)\n",
    "# Change the data type of the Income column from float to int\n",
    "marketing_data['Income'] = marketing_data['Income'].astype(int)"
   ]
  },
  {
   "cell_type": "code",
   "execution_count": 4,
   "metadata": {},
   "outputs": [
    {
     "name": "stdout",
     "output_type": "stream",
     "text": [
      "     ID   Education Marital_Status  Income  Kidhome     Teenhome Dt_Customer  \\\n",
      "0  5524  Graduation         Single   58138        0  has no teen  04-09-2012   \n",
      "2  4141  Graduation       Together   71613        0  has no teen  21-08-2013   \n",
      "3  6182  Graduation       Together   26646        1  has no teen  10-02-2014   \n",
      "4  5324         PhD        Married   58293        1  has no teen  19-01-2014   \n",
      "5  7446      Master       Together   62513        0     has teen  09-09-2013   \n",
      "\n",
      "   Recency  NumStorePurchases  NumWebVisitsMonth  \n",
      "0       58                  4                  7  \n",
      "2       26                 10                  4  \n",
      "3       26                  4                  6  \n",
      "4       94                  6                  5  \n",
      "5       16                 10                  6  \n",
      "ID                   0\n",
      "Education            0\n",
      "Marital_Status       0\n",
      "Income               0\n",
      "Kidhome              0\n",
      "Teenhome             0\n",
      "Dt_Customer          0\n",
      "Recency              0\n",
      "NumStorePurchases    0\n",
      "NumWebVisitsMonth    0\n",
      "dtype: int64\n"
     ]
    },
    {
     "data": {
      "text/plain": [
       "(2239, 10)"
      ]
     },
     "execution_count": 4,
     "metadata": {},
     "output_type": "execute_result"
    }
   ],
   "source": [
    "print(marketing_data.head())\n",
    "# Check for missing values using the isnull and sum methods\n",
    "print(marketing_data.isnull().sum())\n",
    "# Drop missing values using the dropna method\n",
    "marketing_data = marketing_data.dropna(how = 'any')\n",
    "marketing_data.shape"
   ]
  }
 ],
 "metadata": {
  "kernelspec": {
   "display_name": "Python 3.11.4 64-bit",
   "language": "python",
   "name": "python3"
  },
  "language_info": {
   "codemirror_mode": {
    "name": "ipython",
    "version": 3
   },
   "file_extension": ".py",
   "mimetype": "text/x-python",
   "name": "python",
   "nbconvert_exporter": "python",
   "pygments_lexer": "ipython3",
   "version": "3.11.4"
  },
  "orig_nbformat": 4,
  "vscode": {
   "interpreter": {
    "hash": "aee8b7b246df8f9039afb4144a1f6fd8d2ca17a180786b69acc140d282b71a49"
   }
  }
 },
 "nbformat": 4,
 "nbformat_minor": 2
}
